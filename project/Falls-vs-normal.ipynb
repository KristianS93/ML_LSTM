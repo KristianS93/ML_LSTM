{
 "cells": [
  {
   "cell_type": "markdown",
   "source": [
    "Imports"
   ],
   "metadata": {
    "collapsed": false
   },
   "id": "960c828648b8f6ab"
  },
  {
   "cell_type": "code",
   "execution_count": 64,
   "id": "initial_id",
   "metadata": {
    "collapsed": true,
    "ExecuteTime": {
     "end_time": "2024-04-02T15:57:39.673647Z",
     "start_time": "2024-04-02T15:57:39.671181Z"
    }
   },
   "outputs": [],
   "source": [
    "import pandas as pd\n",
    "import numpy as np\n",
    "from sklearn.preprocessing import OneHotEncoder"
   ]
  },
  {
   "cell_type": "markdown",
   "source": [
    "[[1,2,3,4,5,6,7], [1,2,3,4,5,6,7]]"
   ],
   "metadata": {
    "collapsed": false
   },
   "id": "f5868006d224e2c2"
  },
  {
   "cell_type": "code",
   "outputs": [
    {
     "data": {
      "text/plain": "       xAcc  yAcc  zAcc  xGyro  yGyro  zGyro  label\n0      6.99 -0.57 -7.28  -2.75  -3.23   2.62   fall\n1      6.51 -0.75 -6.93  -0.67  -6.35   4.64   fall\n2      6.22 -0.63 -6.73   0.79  -5.49   3.85   fall\n3      6.34 -0.62 -6.80   1.59  -2.26   0.67   fall\n4      6.49 -0.39 -6.60   0.67  -0.24  -1.10   fall\n...     ...   ...   ...    ...    ...    ...    ...\n96795  7.30 -1.16 -4.58  18.19   3.60 -35.77  light\n96796  7.39 -0.37 -5.05  20.08   0.06 -34.55  light\n96797  7.52 -1.46 -5.82  22.58   0.12 -28.02  light\n96798  7.58 -2.14 -6.31  19.47   2.44 -22.52  light\n96799  7.56 -1.90 -5.89  15.56   3.91 -19.23  light\n\n[96800 rows x 7 columns]",
      "text/html": "<div>\n<style scoped>\n    .dataframe tbody tr th:only-of-type {\n        vertical-align: middle;\n    }\n\n    .dataframe tbody tr th {\n        vertical-align: top;\n    }\n\n    .dataframe thead th {\n        text-align: right;\n    }\n</style>\n<table border=\"1\" class=\"dataframe\">\n  <thead>\n    <tr style=\"text-align: right;\">\n      <th></th>\n      <th>xAcc</th>\n      <th>yAcc</th>\n      <th>zAcc</th>\n      <th>xGyro</th>\n      <th>yGyro</th>\n      <th>zGyro</th>\n      <th>label</th>\n    </tr>\n  </thead>\n  <tbody>\n    <tr>\n      <th>0</th>\n      <td>6.99</td>\n      <td>-0.57</td>\n      <td>-7.28</td>\n      <td>-2.75</td>\n      <td>-3.23</td>\n      <td>2.62</td>\n      <td>fall</td>\n    </tr>\n    <tr>\n      <th>1</th>\n      <td>6.51</td>\n      <td>-0.75</td>\n      <td>-6.93</td>\n      <td>-0.67</td>\n      <td>-6.35</td>\n      <td>4.64</td>\n      <td>fall</td>\n    </tr>\n    <tr>\n      <th>2</th>\n      <td>6.22</td>\n      <td>-0.63</td>\n      <td>-6.73</td>\n      <td>0.79</td>\n      <td>-5.49</td>\n      <td>3.85</td>\n      <td>fall</td>\n    </tr>\n    <tr>\n      <th>3</th>\n      <td>6.34</td>\n      <td>-0.62</td>\n      <td>-6.80</td>\n      <td>1.59</td>\n      <td>-2.26</td>\n      <td>0.67</td>\n      <td>fall</td>\n    </tr>\n    <tr>\n      <th>4</th>\n      <td>6.49</td>\n      <td>-0.39</td>\n      <td>-6.60</td>\n      <td>0.67</td>\n      <td>-0.24</td>\n      <td>-1.10</td>\n      <td>fall</td>\n    </tr>\n    <tr>\n      <th>...</th>\n      <td>...</td>\n      <td>...</td>\n      <td>...</td>\n      <td>...</td>\n      <td>...</td>\n      <td>...</td>\n      <td>...</td>\n    </tr>\n    <tr>\n      <th>96795</th>\n      <td>7.30</td>\n      <td>-1.16</td>\n      <td>-4.58</td>\n      <td>18.19</td>\n      <td>3.60</td>\n      <td>-35.77</td>\n      <td>light</td>\n    </tr>\n    <tr>\n      <th>96796</th>\n      <td>7.39</td>\n      <td>-0.37</td>\n      <td>-5.05</td>\n      <td>20.08</td>\n      <td>0.06</td>\n      <td>-34.55</td>\n      <td>light</td>\n    </tr>\n    <tr>\n      <th>96797</th>\n      <td>7.52</td>\n      <td>-1.46</td>\n      <td>-5.82</td>\n      <td>22.58</td>\n      <td>0.12</td>\n      <td>-28.02</td>\n      <td>light</td>\n    </tr>\n    <tr>\n      <th>96798</th>\n      <td>7.58</td>\n      <td>-2.14</td>\n      <td>-6.31</td>\n      <td>19.47</td>\n      <td>2.44</td>\n      <td>-22.52</td>\n      <td>light</td>\n    </tr>\n    <tr>\n      <th>96799</th>\n      <td>7.56</td>\n      <td>-1.90</td>\n      <td>-5.89</td>\n      <td>15.56</td>\n      <td>3.91</td>\n      <td>-19.23</td>\n      <td>light</td>\n    </tr>\n  </tbody>\n</table>\n<p>96800 rows × 7 columns</p>\n</div>"
     },
     "execution_count": 65,
     "metadata": {},
     "output_type": "execute_result"
    }
   ],
   "source": [
    "ds = pd.read_csv('falls_vs_normal.csv')\n",
    "ds"
   ],
   "metadata": {
    "collapsed": false,
    "ExecuteTime": {
     "end_time": "2024-04-02T15:57:39.724266Z",
     "start_time": "2024-04-02T15:57:39.683004Z"
    }
   },
   "id": "4b28aab6c6c53327",
   "execution_count": 65
  },
  {
   "cell_type": "code",
   "outputs": [],
   "source": [
    "\n",
    "def split_observations(ds, window_size):\n",
    "  ds_arr = ds.to_numpy()\n",
    "  observations = []\n",
    "  y_values = []\n",
    "\n",
    "  for i in range(0, len(ds_arr), window_size):\n",
    "    observation = ds_arr[i:i + window_size, :-1]  # Slice a window, exclude last col\n",
    "    observations.append(observation)\n",
    "\n",
    "    # Append y value every window_size (i.e., every 400 values)\n",
    "    if i % 400 == 0:  # Check for divisibility by 400, not remainder\n",
    "      y_values.append(ds_arr[i, -1])  # Append only the last value of the window\n",
    "\n",
    "  return np.array(observations), np.array(y_values)\n",
    "        "
   ],
   "metadata": {
    "collapsed": false,
    "ExecuteTime": {
     "end_time": "2024-04-02T15:57:39.727526Z",
     "start_time": "2024-04-02T15:57:39.725105Z"
    }
   },
   "id": "765fee79d8f67a0c",
   "execution_count": 66
  },
  {
   "cell_type": "code",
   "outputs": [
    {
     "data": {
      "text/plain": "((242, 400, 6), (242,))"
     },
     "execution_count": 67,
     "metadata": {},
     "output_type": "execute_result"
    }
   ],
   "source": [
    "WINDOW_SIZE = 400\n",
    "x, y = split_observations(ds, WINDOW_SIZE)\n",
    "x.shape, y.shape"
   ],
   "metadata": {
    "collapsed": false,
    "ExecuteTime": {
     "end_time": "2024-04-02T15:57:39.745672Z",
     "start_time": "2024-04-02T15:57:39.728024Z"
    }
   },
   "id": "e1cd37b098d172db",
   "execution_count": 67
  },
  {
   "cell_type": "markdown",
   "source": [],
   "metadata": {
    "collapsed": false
   },
   "id": "15f21394dab116dc"
  },
  {
   "cell_type": "code",
   "outputs": [],
   "source": [
    "X_train, y_train = x[:200], y[:200]\n",
    "X_val, y_val = x[200:220], y[200:220]\n",
    "X_test, y_test = x[220:], y[220:]\n",
    "X_train.shape, y_train.shape, X_val.shape, y_val.shape, X_test.shape, y_test.shape\n",
    "X_train = X_train.astype('float32')\n",
    "X_val = X_val.astype('float32')\n",
    "X_test = X_test.astype('float32')"
   ],
   "metadata": {
    "collapsed": false,
    "ExecuteTime": {
     "end_time": "2024-04-02T15:57:39.756528Z",
     "start_time": "2024-04-02T15:57:39.746972Z"
    }
   },
   "id": "9ff5181b63419256",
   "execution_count": 68
  },
  {
   "cell_type": "code",
   "outputs": [
    {
     "data": {
      "text/plain": "((200, 1), (20, 1), (22, 1))"
     },
     "execution_count": 69,
     "metadata": {},
     "output_type": "execute_result"
    }
   ],
   "source": [
    "from sklearn.preprocessing import LabelEncoder\n",
    "\n",
    "# Assuming y_train contains string labels\n",
    "encoder = LabelEncoder()\n",
    "y_train = encoder.fit_transform(y_train)\n",
    "y_val = encoder.transform(y_val)\n",
    "y_test = encoder.transform(y_test)\n",
    "\n",
    "# Reshape y_train (and similarly y_val, y_test) for multi-class classification\n",
    "y_train = y_train.reshape(y_train.shape[0], 1)\n",
    "y_val = y_val.reshape(y_val.shape[0], 1)\n",
    "y_test = y_test.reshape(y_test.shape[0], 1)\n",
    "y_train.shape, y_val.shape, y_test.shape"
   ],
   "metadata": {
    "collapsed": false,
    "ExecuteTime": {
     "end_time": "2024-04-02T15:57:39.759814Z",
     "start_time": "2024-04-02T15:57:39.757092Z"
    }
   },
   "id": "c2b022d754519fc",
   "execution_count": 69
  },
  {
   "cell_type": "code",
   "outputs": [],
   "source": [
    "from tensorflow.keras.models import Sequential\n",
    "from tensorflow.keras.layers import *\n",
    "from tensorflow.keras.callbacks import ModelCheckpoint\n",
    "from tensorflow.keras.losses import MeanSquaredError\n",
    "from tensorflow.keras.metrics import RootMeanSquaredError\n",
    "from tensorflow.keras.optimizers import Adam"
   ],
   "metadata": {
    "collapsed": false,
    "ExecuteTime": {
     "end_time": "2024-04-02T15:57:39.761797Z",
     "start_time": "2024-04-02T15:57:39.760333Z"
    }
   },
   "id": "ca15a5044df90295",
   "execution_count": 70
  },
  {
   "cell_type": "code",
   "outputs": [
    {
     "data": {
      "text/plain": "\u001B[1mModel: \"sequential_7\"\u001B[0m\n",
      "text/html": "<pre style=\"white-space:pre;overflow-x:auto;line-height:normal;font-family:Menlo,'DejaVu Sans Mono',consolas,'Courier New',monospace\"><span style=\"font-weight: bold\">Model: \"sequential_7\"</span>\n</pre>\n"
     },
     "metadata": {},
     "output_type": "display_data"
    },
    {
     "data": {
      "text/plain": "┏━━━━━━━━━━━━━━━━━━━━━━━━━━━━━━━━━┳━━━━━━━━━━━━━━━━━━━━━━━━┳━━━━━━━━━━━━━━━┓\n┃\u001B[1m \u001B[0m\u001B[1mLayer (type)                   \u001B[0m\u001B[1m \u001B[0m┃\u001B[1m \u001B[0m\u001B[1mOutput Shape          \u001B[0m\u001B[1m \u001B[0m┃\u001B[1m \u001B[0m\u001B[1m      Param #\u001B[0m\u001B[1m \u001B[0m┃\n┡━━━━━━━━━━━━━━━━━━━━━━━━━━━━━━━━━╇━━━━━━━━━━━━━━━━━━━━━━━━╇━━━━━━━━━━━━━━━┩\n│ lstm_7 (\u001B[38;5;33mLSTM\u001B[0m)                   │ (\u001B[38;5;45mNone\u001B[0m, \u001B[38;5;34m64\u001B[0m)             │        \u001B[38;5;34m18,176\u001B[0m │\n├─────────────────────────────────┼────────────────────────┼───────────────┤\n│ dense_14 (\u001B[38;5;33mDense\u001B[0m)                │ (\u001B[38;5;45mNone\u001B[0m, \u001B[38;5;34m32\u001B[0m)             │         \u001B[38;5;34m2,080\u001B[0m │\n├─────────────────────────────────┼────────────────────────┼───────────────┤\n│ dense_15 (\u001B[38;5;33mDense\u001B[0m)                │ (\u001B[38;5;45mNone\u001B[0m, \u001B[38;5;34m7\u001B[0m)              │           \u001B[38;5;34m231\u001B[0m │\n└─────────────────────────────────┴────────────────────────┴───────────────┘\n",
      "text/html": "<pre style=\"white-space:pre;overflow-x:auto;line-height:normal;font-family:Menlo,'DejaVu Sans Mono',consolas,'Courier New',monospace\">┏━━━━━━━━━━━━━━━━━━━━━━━━━━━━━━━━━┳━━━━━━━━━━━━━━━━━━━━━━━━┳━━━━━━━━━━━━━━━┓\n┃<span style=\"font-weight: bold\"> Layer (type)                    </span>┃<span style=\"font-weight: bold\"> Output Shape           </span>┃<span style=\"font-weight: bold\">       Param # </span>┃\n┡━━━━━━━━━━━━━━━━━━━━━━━━━━━━━━━━━╇━━━━━━━━━━━━━━━━━━━━━━━━╇━━━━━━━━━━━━━━━┩\n│ lstm_7 (<span style=\"color: #0087ff; text-decoration-color: #0087ff\">LSTM</span>)                   │ (<span style=\"color: #00d7ff; text-decoration-color: #00d7ff\">None</span>, <span style=\"color: #00af00; text-decoration-color: #00af00\">64</span>)             │        <span style=\"color: #00af00; text-decoration-color: #00af00\">18,176</span> │\n├─────────────────────────────────┼────────────────────────┼───────────────┤\n│ dense_14 (<span style=\"color: #0087ff; text-decoration-color: #0087ff\">Dense</span>)                │ (<span style=\"color: #00d7ff; text-decoration-color: #00d7ff\">None</span>, <span style=\"color: #00af00; text-decoration-color: #00af00\">32</span>)             │         <span style=\"color: #00af00; text-decoration-color: #00af00\">2,080</span> │\n├─────────────────────────────────┼────────────────────────┼───────────────┤\n│ dense_15 (<span style=\"color: #0087ff; text-decoration-color: #0087ff\">Dense</span>)                │ (<span style=\"color: #00d7ff; text-decoration-color: #00d7ff\">None</span>, <span style=\"color: #00af00; text-decoration-color: #00af00\">7</span>)              │           <span style=\"color: #00af00; text-decoration-color: #00af00\">231</span> │\n└─────────────────────────────────┴────────────────────────┴───────────────┘\n</pre>\n"
     },
     "metadata": {},
     "output_type": "display_data"
    },
    {
     "data": {
      "text/plain": "\u001B[1m Total params: \u001B[0m\u001B[38;5;34m20,487\u001B[0m (80.03 KB)\n",
      "text/html": "<pre style=\"white-space:pre;overflow-x:auto;line-height:normal;font-family:Menlo,'DejaVu Sans Mono',consolas,'Courier New',monospace\"><span style=\"font-weight: bold\"> Total params: </span><span style=\"color: #00af00; text-decoration-color: #00af00\">20,487</span> (80.03 KB)\n</pre>\n"
     },
     "metadata": {},
     "output_type": "display_data"
    },
    {
     "data": {
      "text/plain": "\u001B[1m Trainable params: \u001B[0m\u001B[38;5;34m20,487\u001B[0m (80.03 KB)\n",
      "text/html": "<pre style=\"white-space:pre;overflow-x:auto;line-height:normal;font-family:Menlo,'DejaVu Sans Mono',consolas,'Courier New',monospace\"><span style=\"font-weight: bold\"> Trainable params: </span><span style=\"color: #00af00; text-decoration-color: #00af00\">20,487</span> (80.03 KB)\n</pre>\n"
     },
     "metadata": {},
     "output_type": "display_data"
    },
    {
     "data": {
      "text/plain": "\u001B[1m Non-trainable params: \u001B[0m\u001B[38;5;34m0\u001B[0m (0.00 B)\n",
      "text/html": "<pre style=\"white-space:pre;overflow-x:auto;line-height:normal;font-family:Menlo,'DejaVu Sans Mono',consolas,'Courier New',monospace\"><span style=\"font-weight: bold\"> Non-trainable params: </span><span style=\"color: #00af00; text-decoration-color: #00af00\">0</span> (0.00 B)\n</pre>\n"
     },
     "metadata": {},
     "output_type": "display_data"
    }
   ],
   "source": [
    "model1 = Sequential()\n",
    "model1.add(InputLayer((400,6)))\n",
    "model1.add(LSTM(64))\n",
    "model1.add(Dense(32, activation='relu'))\n",
    "model1.add(Dense(7, activation='linear'))\n",
    "model1.summary()"
   ],
   "metadata": {
    "collapsed": false,
    "ExecuteTime": {
     "end_time": "2024-04-02T15:57:39.778652Z",
     "start_time": "2024-04-02T15:57:39.762334Z"
    }
   },
   "id": "f6e9f760432f55f9",
   "execution_count": 71
  },
  {
   "cell_type": "code",
   "outputs": [],
   "source": [
    "cp = ModelCheckpoint('model2/model.keras', save_best_only=True)\n",
    "model1.compile(loss='sparse_categorical_crossentropy', optimizer=Adam(learning_rate=0.0001), metrics=['accuracy'])"
   ],
   "metadata": {
    "collapsed": false,
    "ExecuteTime": {
     "end_time": "2024-04-02T15:57:39.782534Z",
     "start_time": "2024-04-02T15:57:39.779291Z"
    }
   },
   "id": "d97c3e72ccd74388",
   "execution_count": 72
  },
  {
   "cell_type": "code",
   "outputs": [
    {
     "name": "stdout",
     "output_type": "stream",
     "text": [
      "Epoch 1/5\n",
      "\u001B[1m7/7\u001B[0m \u001B[32m━━━━━━━━━━━━━━━━━━━━\u001B[0m\u001B[37m\u001B[0m \u001B[1m1s\u001B[0m 65ms/step - accuracy: 0.0902 - loss: 5.3461 - val_accuracy: 0.1000 - val_loss: 6.7930\n",
      "Epoch 2/5\n",
      "\u001B[1m7/7\u001B[0m \u001B[32m━━━━━━━━━━━━━━━━━━━━\u001B[0m\u001B[37m\u001B[0m \u001B[1m0s\u001B[0m 59ms/step - accuracy: 0.1717 - loss: 4.8460 - val_accuracy: 0.1000 - val_loss: 6.7557\n",
      "Epoch 3/5\n",
      "\u001B[1m7/7\u001B[0m \u001B[32m━━━━━━━━━━━━━━━━━━━━\u001B[0m\u001B[37m\u001B[0m \u001B[1m0s\u001B[0m 51ms/step - accuracy: 0.1884 - loss: 4.5316 - val_accuracy: 0.1000 - val_loss: 6.7285\n",
      "Epoch 4/5\n",
      "\u001B[1m7/7\u001B[0m \u001B[32m━━━━━━━━━━━━━━━━━━━━\u001B[0m\u001B[37m\u001B[0m \u001B[1m0s\u001B[0m 52ms/step - accuracy: 0.1974 - loss: 4.8173 - val_accuracy: 0.1000 - val_loss: 6.7024\n",
      "Epoch 5/5\n",
      "\u001B[1m7/7\u001B[0m \u001B[32m━━━━━━━━━━━━━━━━━━━━\u001B[0m\u001B[37m\u001B[0m \u001B[1m0s\u001B[0m 52ms/step - accuracy: 0.2103 - loss: 4.8052 - val_accuracy: 0.1000 - val_loss: 6.6833\n"
     ]
    },
    {
     "data": {
      "text/plain": "<keras.src.callbacks.history.History at 0x1548a0350>"
     },
     "execution_count": 73,
     "metadata": {},
     "output_type": "execute_result"
    }
   ],
   "source": [
    "model1.fit(X_train, y_train, validation_data=(X_val, y_val), epochs=5, callbacks=[cp])"
   ],
   "metadata": {
    "collapsed": false,
    "ExecuteTime": {
     "end_time": "2024-04-02T15:57:42.316477Z",
     "start_time": "2024-04-02T15:57:39.782972Z"
    }
   },
   "id": "7f0983188269a089",
   "execution_count": 73
  },
  {
   "cell_type": "code",
   "outputs": [],
   "source": [
    "from tensorflow.keras.models import load_model\n",
    "model1 = load_model('model2/model.keras')"
   ],
   "metadata": {
    "collapsed": false,
    "ExecuteTime": {
     "end_time": "2024-04-02T15:57:42.342371Z",
     "start_time": "2024-04-02T15:57:42.318234Z"
    }
   },
   "id": "173f7c5ef2224f0d",
   "execution_count": 74
  },
  {
   "cell_type": "code",
   "outputs": [
    {
     "name": "stdout",
     "output_type": "stream",
     "text": [
      "     Train Predictions  Actual\n",
      "0             0.982449       0\n",
      "1             0.450557       0\n",
      "2            -0.276248       0\n",
      "3            -0.814473       0\n",
      "4             0.722904       0\n",
      "..                 ...     ...\n",
      "195          -0.094360       6\n",
      "196           0.892677       6\n",
      "197           0.272693       6\n",
      "198          -0.469950       6\n",
      "199          -0.567231       6\n",
      "\n",
      "[200 rows x 2 columns]\n"
     ]
    }
   ],
   "source": [
    "# Flatten the predictions array\n",
    "train_predictions_flat = train_predictions.flatten()\n",
    "\n",
    "# Ensure both arrays have the same length\n",
    "min_length = min(len(train_predictions_flat), len(y_train_reshaped))\n",
    "train_predictions_flat = train_predictions_flat[:min_length]\n",
    "y_train_reshaped = y_train_reshaped[:min_length]\n",
    "\n",
    "# Create DataFrame to compare predictions with actual labels\n",
    "train_results = pd.DataFrame({'Train Predictions': train_predictions_flat, 'Actual': y_train_reshaped})\n",
    "\n",
    "# Print the DataFrame\n",
    "print(train_results)"
   ],
   "metadata": {
    "collapsed": false,
    "ExecuteTime": {
     "end_time": "2024-04-02T15:57:42.346338Z",
     "start_time": "2024-04-02T15:57:42.343087Z"
    }
   },
   "id": "7927516b38797390",
   "execution_count": 75
  },
  {
   "cell_type": "code",
   "outputs": [
    {
     "data": {
      "text/plain": "[<matplotlib.lines.Line2D at 0x31c0c0d70>]"
     },
     "execution_count": 78,
     "metadata": {},
     "output_type": "execute_result"
    },
    {
     "data": {
      "text/plain": "<Figure size 640x480 with 1 Axes>",
      "image/png": "[encoded data removed]"
     },
     "metadata": {},
     "output_type": "display_data"
    }
   ],
   "source": [
    "import matplotlib.pyplot as plt\n",
    "plt.plot(train_results['Train Predictions'][:200])\n",
    "plt.plot(train_results['Actual'][:200])"
   ],
   "metadata": {
    "collapsed": false,
    "ExecuteTime": {
     "end_time": "2024-04-02T15:58:52.676245Z",
     "start_time": "2024-04-02T15:58:52.601294Z"
    }
   },
   "id": "c532abcf52dfc2c8",
   "execution_count": 78
  },
  {
   "cell_type": "code",
   "outputs": [],
   "source": [],
   "metadata": {
    "collapsed": false
   },
   "id": "b5f2fb6944955a8"
  }
 ],
 "metadata": {
  "kernelspec": {
   "display_name": "Python 3",
   "language": "python",
   "name": "python3"
  },
  "language_info": {
   "codemirror_mode": {
    "name": "ipython",
    "version": 2
   },
   "file_extension": ".py",
   "mimetype": "text/x-python",
   "name": "python",
   "nbconvert_exporter": "python",
   "pygments_lexer": "ipython2",
   "version": "2.7.6"
  }
 },
 "nbformat": 4,
 "nbformat_minor": 5
}
