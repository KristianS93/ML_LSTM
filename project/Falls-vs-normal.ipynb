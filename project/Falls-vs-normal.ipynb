{
 "cells": [
  {
   "cell_type": "markdown",
   "source": [
    "Imports"
   ],
   "metadata": {
    "collapsed": false
   },
   "id": "960c828648b8f6ab"
  },
  {
   "cell_type": "code",
   "execution_count": 270,
   "id": "initial_id",
   "metadata": {
    "collapsed": true,
    "ExecuteTime": {
     "end_time": "2024-04-02T09:55:32.513925Z",
     "start_time": "2024-04-02T09:55:32.511574Z"
    }
   },
   "outputs": [],
   "source": [
    "import pandas as pd\n",
    "import numpy as np\n",
    "from sklearn.preprocessing import OneHotEncoder"
   ]
  },
  {
   "cell_type": "markdown",
   "source": [
    "[[1,2,3,4,5,6,7], [1,2,3,4,5,6,7]]"
   ],
   "metadata": {
    "collapsed": false
   },
   "id": "f5868006d224e2c2"
  },
  {
   "cell_type": "code",
   "outputs": [
    {
     "data": {
      "text/plain": "       xAcc  yAcc  zAcc  xGyro  yGyro  zGyro  label\n0      6.99 -0.57 -7.28  -2.75  -3.23   2.62   fall\n1      6.51 -0.75 -6.93  -0.67  -6.35   4.64   fall\n2      6.22 -0.63 -6.73   0.79  -5.49   3.85   fall\n3      6.34 -0.62 -6.80   1.59  -2.26   0.67   fall\n4      6.49 -0.39 -6.60   0.67  -0.24  -1.10   fall\n...     ...   ...   ...    ...    ...    ...    ...\n96795  7.30 -1.16 -4.58  18.19   3.60 -35.77  light\n96796  7.39 -0.37 -5.05  20.08   0.06 -34.55  light\n96797  7.52 -1.46 -5.82  22.58   0.12 -28.02  light\n96798  7.58 -2.14 -6.31  19.47   2.44 -22.52  light\n96799  7.56 -1.90 -5.89  15.56   3.91 -19.23  light\n\n[96800 rows x 7 columns]",
      "text/html": "<div>\n<style scoped>\n    .dataframe tbody tr th:only-of-type {\n        vertical-align: middle;\n    }\n\n    .dataframe tbody tr th {\n        vertical-align: top;\n    }\n\n    .dataframe thead th {\n        text-align: right;\n    }\n</style>\n<table border=\"1\" class=\"dataframe\">\n  <thead>\n    <tr style=\"text-align: right;\">\n      <th></th>\n      <th>xAcc</th>\n      <th>yAcc</th>\n      <th>zAcc</th>\n      <th>xGyro</th>\n      <th>yGyro</th>\n      <th>zGyro</th>\n      <th>label</th>\n    </tr>\n  </thead>\n  <tbody>\n    <tr>\n      <th>0</th>\n      <td>6.99</td>\n      <td>-0.57</td>\n      <td>-7.28</td>\n      <td>-2.75</td>\n      <td>-3.23</td>\n      <td>2.62</td>\n      <td>fall</td>\n    </tr>\n    <tr>\n      <th>1</th>\n      <td>6.51</td>\n      <td>-0.75</td>\n      <td>-6.93</td>\n      <td>-0.67</td>\n      <td>-6.35</td>\n      <td>4.64</td>\n      <td>fall</td>\n    </tr>\n    <tr>\n      <th>2</th>\n      <td>6.22</td>\n      <td>-0.63</td>\n      <td>-6.73</td>\n      <td>0.79</td>\n      <td>-5.49</td>\n      <td>3.85</td>\n      <td>fall</td>\n    </tr>\n    <tr>\n      <th>3</th>\n      <td>6.34</td>\n      <td>-0.62</td>\n      <td>-6.80</td>\n      <td>1.59</td>\n      <td>-2.26</td>\n      <td>0.67</td>\n      <td>fall</td>\n    </tr>\n    <tr>\n      <th>4</th>\n      <td>6.49</td>\n      <td>-0.39</td>\n      <td>-6.60</td>\n      <td>0.67</td>\n      <td>-0.24</td>\n      <td>-1.10</td>\n      <td>fall</td>\n    </tr>\n    <tr>\n      <th>...</th>\n      <td>...</td>\n      <td>...</td>\n      <td>...</td>\n      <td>...</td>\n      <td>...</td>\n      <td>...</td>\n      <td>...</td>\n    </tr>\n    <tr>\n      <th>96795</th>\n      <td>7.30</td>\n      <td>-1.16</td>\n      <td>-4.58</td>\n      <td>18.19</td>\n      <td>3.60</td>\n      <td>-35.77</td>\n      <td>light</td>\n    </tr>\n    <tr>\n      <th>96796</th>\n      <td>7.39</td>\n      <td>-0.37</td>\n      <td>-5.05</td>\n      <td>20.08</td>\n      <td>0.06</td>\n      <td>-34.55</td>\n      <td>light</td>\n    </tr>\n    <tr>\n      <th>96797</th>\n      <td>7.52</td>\n      <td>-1.46</td>\n      <td>-5.82</td>\n      <td>22.58</td>\n      <td>0.12</td>\n      <td>-28.02</td>\n      <td>light</td>\n    </tr>\n    <tr>\n      <th>96798</th>\n      <td>7.58</td>\n      <td>-2.14</td>\n      <td>-6.31</td>\n      <td>19.47</td>\n      <td>2.44</td>\n      <td>-22.52</td>\n      <td>light</td>\n    </tr>\n    <tr>\n      <th>96799</th>\n      <td>7.56</td>\n      <td>-1.90</td>\n      <td>-5.89</td>\n      <td>15.56</td>\n      <td>3.91</td>\n      <td>-19.23</td>\n      <td>light</td>\n    </tr>\n  </tbody>\n</table>\n<p>96800 rows × 7 columns</p>\n</div>"
     },
     "execution_count": 271,
     "metadata": {},
     "output_type": "execute_result"
    }
   ],
   "source": [
    "ds = pd.read_csv('falls_vs_normal.csv')\n",
    "ds"
   ],
   "metadata": {
    "collapsed": false,
    "ExecuteTime": {
     "end_time": "2024-04-02T09:55:32.565713Z",
     "start_time": "2024-04-02T09:55:32.523356Z"
    }
   },
   "id": "4b28aab6c6c53327",
   "execution_count": 271
  },
  {
   "cell_type": "code",
   "outputs": [],
   "source": [
    "\n",
    "#def split_observations(ds, window_size):\n",
    "  ds_arr = ds.to_numpy()\n",
    "  observations = []\n",
    "  y_values = []\n",
    "\n",
    "  for i in range(0, len(ds_arr), window_size):\n",
    "    observation = ds_arr[i:i + window_size, :-1]  # Slice a window, exclude last col\n",
    "    observations.append(observation)\n",
    "\n",
    "    # Append y value every window_size (i.e., every 400 values)\n",
    "    if i % 400 == 0:  # Check for divisibility by 400, not remainder\n",
    "      y_values.append(ds_arr[i, -1])  # Append only the last value of the window\n",
    "\n",
    "  return np.array(observations), np.array(y_values)\n",
    "        "
   ],
   "metadata": {
    "collapsed": false,
    "ExecuteTime": {
     "end_time": "2024-04-02T09:55:32.568605Z",
     "start_time": "2024-04-02T09:55:32.566614Z"
    }
   },
   "id": "765fee79d8f67a0c",
   "execution_count": 272
  },
  {
   "cell_type": "code",
   "outputs": [
    {
     "ename": "ValueError",
     "evalue": "too many values to unpack (expected 2)",
     "output_type": "error",
     "traceback": [
      "\u001B[0;31m---------------------------------------------------------------------------\u001B[0m",
      "\u001B[0;31mValueError\u001B[0m                                Traceback (most recent call last)",
      "Cell \u001B[0;32mIn[274], line 2\u001B[0m\n\u001B[1;32m      1\u001B[0m WINDOW_SIZE \u001B[38;5;241m=\u001B[39m \u001B[38;5;241m400\u001B[39m\n\u001B[0;32m----> 2\u001B[0m x, y \u001B[38;5;241m=\u001B[39m split_observations(ds, WINDOW_SIZE)\n\u001B[1;32m      3\u001B[0m x\u001B[38;5;241m.\u001B[39mshape, y\u001B[38;5;241m.\u001B[39mshape\n",
      "\u001B[0;31mValueError\u001B[0m: too many values to unpack (expected 2)"
     ]
    }
   ],
   "source": [
    "WINDOW_SIZE = 400\n",
    "x, y = split_observations(ds, WINDOW_SIZE)\n",
    "x.shape, y.shape"
   ],
   "metadata": {
    "collapsed": false,
    "ExecuteTime": {
     "end_time": "2024-04-02T09:55:43.309495Z",
     "start_time": "2024-04-02T09:55:43.263253Z"
    }
   },
   "id": "e1cd37b098d172db",
   "execution_count": 274
  },
  {
   "cell_type": "markdown",
   "source": [],
   "metadata": {
    "collapsed": false
   },
   "id": "15f21394dab116dc"
  },
  {
   "cell_type": "code",
   "outputs": [],
   "source": [
    "X_train, y_train = x[:200], y[:200]\n",
    "X_val, y_val = x[200:220], y[200:220]\n",
    "X_test, y_test = x[220:], y[220:]\n",
    "X_train.shape, y_train.shape, X_val.shape, y_val.shape, X_test.shape, y_test.shape\n",
    "print(X_train[0])\n",
    "print(y_train[0])"
   ],
   "metadata": {
    "collapsed": false
   },
   "id": "9ff5181b63419256",
   "execution_count": null
  },
  {
   "cell_type": "code",
   "outputs": [],
   "source": [
    "from sklearn.preprocessing import LabelEncoder\n",
    "\n",
    "# Assuming y_train contains string labels\n",
    "encoder = LabelEncoder()\n",
    "y_train = encoder.fit_transform(y_train)\n",
    "y_val = encoder.transform(y_val)\n",
    "y_test = encoder.transform(y_test)\n",
    "\n",
    "# Reshape y_train (and similarly y_val, y_test) for multi-class classification\n",
    "y_train = y_train.reshape(y_train.shape[0], 1, -1)\n",
    "y_val = y_val.reshape(y_val.shape[0], 1, -1)\n",
    "y_test = y_test.reshape(y_test.shape[0], 1, -1)\n",
    "y_train.shape, y_val.shape, y_test.shape"
   ],
   "metadata": {
    "collapsed": false
   },
   "id": "c2b022d754519fc",
   "execution_count": null
  },
  {
   "cell_type": "code",
   "outputs": [],
   "source": [
    "from tensorflow.keras.models import Sequential\n",
    "from tensorflow.keras.layers import *\n",
    "from tensorflow.keras.callbacks import ModelCheckpoint\n",
    "from tensorflow.keras.losses import MeanSquaredError\n",
    "from tensorflow.keras.metrics import RootMeanSquaredError\n",
    "from tensorflow.keras.optimizers import Adam"
   ],
   "metadata": {
    "collapsed": false
   },
   "id": "ca15a5044df90295",
   "execution_count": null
  },
  {
   "cell_type": "code",
   "outputs": [],
   "source": [
    "model1 = Sequential()\n",
    "model1.add(InputLayer((400,6)))\n",
    "model1.add(LSTM(256))\n",
    "model1.add(Dense(32, activation='relu'))\n",
    "model1.add(Dense(1, activation='linear'))\n",
    "model1.summary()"
   ],
   "metadata": {
    "collapsed": false
   },
   "id": "f6e9f760432f55f9",
   "execution_count": null
  },
  {
   "cell_type": "code",
   "outputs": [],
   "source": [
    "cp = ModelCheckpoint('model2/model.keras', save_best_only=True)\n",
    "model1.compile(loss=MeanSquaredError(), optimizer=Adam(learning_rate=0.0001), metrics=[RootMeanSquaredError()])"
   ],
   "metadata": {
    "collapsed": false
   },
   "id": "d97c3e72ccd74388",
   "execution_count": null
  },
  {
   "cell_type": "code",
   "outputs": [],
   "source": [
    "model1.fit(X_train, y_train, validation_data=(X_val, y_val), epochs=5, callbacks=[cp])"
   ],
   "metadata": {
    "collapsed": false
   },
   "id": "7f0983188269a089",
   "execution_count": null
  },
  {
   "cell_type": "code",
   "outputs": [],
   "source": [],
   "metadata": {
    "collapsed": false
   },
   "id": "173f7c5ef2224f0d"
  },
  {
   "cell_type": "code",
   "outputs": [],
   "source": [],
   "metadata": {
    "collapsed": false
   },
   "id": "7927516b38797390"
  }
 ],
 "metadata": {
  "kernelspec": {
   "display_name": "Python 3",
   "language": "python",
   "name": "python3"
  },
  "language_info": {
   "codemirror_mode": {
    "name": "ipython",
    "version": 2
   },
   "file_extension": ".py",
   "mimetype": "text/x-python",
   "name": "python",
   "nbconvert_exporter": "python",
   "pygments_lexer": "ipython2",
   "version": "2.7.6"
  }
 },
 "nbformat": 4,
 "nbformat_minor": 5
}
