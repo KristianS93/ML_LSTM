{
 "cells": [
  {
   "cell_type": "markdown",
   "source": [
    "Imports"
   ],
   "metadata": {
    "collapsed": false
   },
   "id": "960c828648b8f6ab"
  },
  {
   "cell_type": "code",
   "execution_count": 123,
   "id": "initial_id",
   "metadata": {
    "collapsed": true,
    "ExecuteTime": {
     "end_time": "2024-04-03T06:45:33.826650Z",
     "start_time": "2024-04-03T06:45:33.824118Z"
    }
   },
   "outputs": [],
   "source": [
    "import pandas as pd\n",
    "import numpy as np\n",
    "from sklearn.preprocessing import OneHotEncoder"
   ]
  },
  {
   "cell_type": "markdown",
   "source": [
    "[[1,2,3,4,5,6,7], [1,2,3,4,5,6,7]]"
   ],
   "metadata": {
    "collapsed": false
   },
   "id": "f5868006d224e2c2"
  },
  {
   "cell_type": "code",
   "outputs": [
    {
     "data": {
      "text/plain": "       xAcc  yAcc  zAcc  xGyro  yGyro  zGyro  label\n0      6.99 -0.57 -7.28  -2.75  -3.23   2.62   fall\n1      6.51 -0.75 -6.93  -0.67  -6.35   4.64   fall\n2      6.22 -0.63 -6.73   0.79  -5.49   3.85   fall\n3      6.34 -0.62 -6.80   1.59  -2.26   0.67   fall\n4      6.49 -0.39 -6.60   0.67  -0.24  -1.10   fall\n...     ...   ...   ...    ...    ...    ...    ...\n96795  7.30 -1.16 -4.58  18.19   3.60 -35.77  light\n96796  7.39 -0.37 -5.05  20.08   0.06 -34.55  light\n96797  7.52 -1.46 -5.82  22.58   0.12 -28.02  light\n96798  7.58 -2.14 -6.31  19.47   2.44 -22.52  light\n96799  7.56 -1.90 -5.89  15.56   3.91 -19.23  light\n\n[96800 rows x 7 columns]",
      "text/html": "<div>\n<style scoped>\n    .dataframe tbody tr th:only-of-type {\n        vertical-align: middle;\n    }\n\n    .dataframe tbody tr th {\n        vertical-align: top;\n    }\n\n    .dataframe thead th {\n        text-align: right;\n    }\n</style>\n<table border=\"1\" class=\"dataframe\">\n  <thead>\n    <tr style=\"text-align: right;\">\n      <th></th>\n      <th>xAcc</th>\n      <th>yAcc</th>\n      <th>zAcc</th>\n      <th>xGyro</th>\n      <th>yGyro</th>\n      <th>zGyro</th>\n      <th>label</th>\n    </tr>\n  </thead>\n  <tbody>\n    <tr>\n      <th>0</th>\n      <td>6.99</td>\n      <td>-0.57</td>\n      <td>-7.28</td>\n      <td>-2.75</td>\n      <td>-3.23</td>\n      <td>2.62</td>\n      <td>fall</td>\n    </tr>\n    <tr>\n      <th>1</th>\n      <td>6.51</td>\n      <td>-0.75</td>\n      <td>-6.93</td>\n      <td>-0.67</td>\n      <td>-6.35</td>\n      <td>4.64</td>\n      <td>fall</td>\n    </tr>\n    <tr>\n      <th>2</th>\n      <td>6.22</td>\n      <td>-0.63</td>\n      <td>-6.73</td>\n      <td>0.79</td>\n      <td>-5.49</td>\n      <td>3.85</td>\n      <td>fall</td>\n    </tr>\n    <tr>\n      <th>3</th>\n      <td>6.34</td>\n      <td>-0.62</td>\n      <td>-6.80</td>\n      <td>1.59</td>\n      <td>-2.26</td>\n      <td>0.67</td>\n      <td>fall</td>\n    </tr>\n    <tr>\n      <th>4</th>\n      <td>6.49</td>\n      <td>-0.39</td>\n      <td>-6.60</td>\n      <td>0.67</td>\n      <td>-0.24</td>\n      <td>-1.10</td>\n      <td>fall</td>\n    </tr>\n    <tr>\n      <th>...</th>\n      <td>...</td>\n      <td>...</td>\n      <td>...</td>\n      <td>...</td>\n      <td>...</td>\n      <td>...</td>\n      <td>...</td>\n    </tr>\n    <tr>\n      <th>96795</th>\n      <td>7.30</td>\n      <td>-1.16</td>\n      <td>-4.58</td>\n      <td>18.19</td>\n      <td>3.60</td>\n      <td>-35.77</td>\n      <td>light</td>\n    </tr>\n    <tr>\n      <th>96796</th>\n      <td>7.39</td>\n      <td>-0.37</td>\n      <td>-5.05</td>\n      <td>20.08</td>\n      <td>0.06</td>\n      <td>-34.55</td>\n      <td>light</td>\n    </tr>\n    <tr>\n      <th>96797</th>\n      <td>7.52</td>\n      <td>-1.46</td>\n      <td>-5.82</td>\n      <td>22.58</td>\n      <td>0.12</td>\n      <td>-28.02</td>\n      <td>light</td>\n    </tr>\n    <tr>\n      <th>96798</th>\n      <td>7.58</td>\n      <td>-2.14</td>\n      <td>-6.31</td>\n      <td>19.47</td>\n      <td>2.44</td>\n      <td>-22.52</td>\n      <td>light</td>\n    </tr>\n    <tr>\n      <th>96799</th>\n      <td>7.56</td>\n      <td>-1.90</td>\n      <td>-5.89</td>\n      <td>15.56</td>\n      <td>3.91</td>\n      <td>-19.23</td>\n      <td>light</td>\n    </tr>\n  </tbody>\n</table>\n<p>96800 rows × 7 columns</p>\n</div>"
     },
     "execution_count": 124,
     "metadata": {},
     "output_type": "execute_result"
    }
   ],
   "source": [
    "ds = pd.read_csv('falls_vs_normal.csv')\n",
    "ds"
   ],
   "metadata": {
    "collapsed": false,
    "ExecuteTime": {
     "end_time": "2024-04-03T06:45:34.780561Z",
     "start_time": "2024-04-03T06:45:34.736783Z"
    }
   },
   "id": "4b28aab6c6c53327",
   "execution_count": 124
  },
  {
   "cell_type": "code",
   "outputs": [],
   "source": [],
   "metadata": {
    "collapsed": false,
    "ExecuteTime": {
     "end_time": "2024-04-03T06:45:35.531806Z",
     "start_time": "2024-04-03T06:45:35.529363Z"
    }
   },
   "id": "7da1f78234ad2c39",
   "execution_count": 124
  },
  {
   "cell_type": "markdown",
   "source": [],
   "metadata": {
    "collapsed": false
   },
   "id": "c480b17ae1e88bd"
  },
  {
   "cell_type": "code",
   "outputs": [
    {
     "name": "stdout",
     "output_type": "stream",
     "text": [
      "[[[6.99 -0.57 -7.28 ... -3.23 2.62 'fall']\n",
      "  [6.51 -0.75 -6.93 ... -6.35 4.64 'fall']\n",
      "  [6.22 -0.63 -6.73 ... -5.49 3.85 'fall']\n",
      "  ...\n",
      "  [7.44 -1.92 6.23 ... 0.18 -0.98 'fall']\n",
      "  [7.41 -2.0 6.22 ... 0.18 -0.98 'fall']\n",
      "  [7.46 -1.96 6.22 ... 0.37 -1.1 'fall']]\n",
      "\n",
      " [[6.89 -1.53 -6.57 ... -4.15 -25.7 'fall']\n",
      "  [6.61 -1.78 -6.44 ... -3.72 -28.93 'fall']\n",
      "  [6.48 -1.78 -6.44 ... -1.04 -27.34 'fall']\n",
      "  ...\n",
      "  [7.85 -1.3 5.85 ... 0.79 -0.79 'fall']\n",
      "  [7.84 -1.27 5.9 ... 0.37 -0.92 'fall']\n",
      "  [7.8 -1.31 5.96 ... -0.12 -0.67 'fall']]\n",
      "\n",
      " [[6.89 -1.53 -6.57 ... -4.15 -25.7 'fall']\n",
      "  [6.61 -1.78 -6.44 ... -3.72 -28.93 'fall']\n",
      "  [6.48 -1.78 -6.44 ... -1.04 -27.34 'fall']\n",
      "  ...\n",
      "  [7.85 -1.3 5.85 ... 0.79 -0.79 'fall']\n",
      "  [7.84 -1.27 5.9 ... 0.37 -0.92 'fall']\n",
      "  [7.8 -1.31 5.96 ... -0.12 -0.67 'fall']]\n",
      "\n",
      " ...\n",
      "\n",
      " [[7.81 -0.87 -3.38 ... 26.49 5.07 'fall']\n",
      "  [8.75 -0.89 -3.32 ... 25.82 2.87 'fall']\n",
      "  [8.88 -0.95 -4.26 ... 19.59 10.93 'fall']\n",
      "  ...\n",
      "  [5.95 -1.76 8.1 ... 23.86 5.8 'fall']\n",
      "  [8.01 -2.33 10.03 ... 9.83 3.72 'fall']\n",
      "  [7.95 -2.59 9.93 ... -10.99 0.79 'fall']]\n",
      "\n",
      " [[9.58 1.74 -7.13 ... -5.19 24.35 'walk']\n",
      "  [9.0 -1.9 -5.69 ... -6.71 18.98 'walk']\n",
      "  [5.32 -1.31 -4.88 ... -9.4 12.33 'walk']\n",
      "  ...\n",
      "  [4.92 -1.19 -3.51 ... 4.09 -10.68 'walk']\n",
      "  [4.12 -0.43 -2.5 ... 9.28 -7.32 'walk']\n",
      "  [4.56 -1.47 -3.56 ... 11.05 -4.27 'walk']]\n",
      "\n",
      " [[10.54 -0.35 -3.61 ... 22.28 -37.23 'walk']\n",
      "  [7.48 -0.48 -3.64 ... 17.33 -4.82 'walk']\n",
      "  [7.79 0.12 -4.04 ... 19.59 4.27 'walk']\n",
      "  ...\n",
      "  [22.47 -4.85 -12.98 ... -5.8 -64.51 'walk']\n",
      "  [10.41 -3.7 -6.02 ... -37.66 -23.56 'walk']\n",
      "  [7.56 1.72 -7.12 ... 8.36 -38.09 'walk']]]\n"
     ]
    }
   ],
   "source": [
    "import random\n",
    "def shuffle_data(ds, window_size):\n",
    "  liste = []\n",
    "  ds_arr = ds.to_numpy()\n",
    "  for i in range(0, len(ds_arr), window_size):\n",
    "    if i % 400 == 0:\n",
    "      liste.append(ds_arr[i:i+window_size])\n",
    "  return np.array(liste)\n",
    "list = shuffle_data(ds, 400)\n",
    "random.shuffle(list)\n",
    "list.shape\n",
    "print(list)"
   ],
   "metadata": {
    "collapsed": false,
    "ExecuteTime": {
     "end_time": "2024-04-03T07:06:37.371455Z",
     "start_time": "2024-04-03T07:06:37.341127Z"
    }
   },
   "id": "9aa178c98eb50cb3",
   "execution_count": 177
  },
  {
   "cell_type": "code",
   "outputs": [],
   "source": [
    "\n",
    "def split_observations(list, window_size):\n",
    "  ds_arr = ds.to_numpy()\n",
    "  observations = []\n",
    "  y_values = []\n",
    "\n",
    "  for i in range(0, len(ds_arr), window_size):\n",
    "    observation = ds_arr[i:i + window_size, :-1]  # Slice a window, exclude last col\n",
    "    observations.append(observation)\n",
    "\n",
    "    # Append y value every window_size (i.e., every 400 values)\n",
    "    if i % 400 == 0:  # Check for divisibility by 400, not remainder\n",
    "      y_value = ds_arr[i, -1]\n",
    "      # Convert string to 1 if it contains \"fall\", otherwise 0\n",
    "      y_value = 1 if \"fall\" in y_value else 0\n",
    "      y_values.append(y_value)\n",
    "      #y_values.append(ds_arr[i, -1])  # Append only the last value of the window\n",
    "\n",
    "  return np.array(observations), np.array(y_values)\n",
    "        "
   ],
   "metadata": {
    "collapsed": false,
    "ExecuteTime": {
     "end_time": "2024-04-03T07:07:53.318348Z",
     "start_time": "2024-04-03T07:07:53.314610Z"
    }
   },
   "id": "765fee79d8f67a0c",
   "execution_count": 178
  },
  {
   "cell_type": "code",
   "outputs": [
    {
     "data": {
      "text/plain": "((242, 400, 6), (242,))"
     },
     "execution_count": 179,
     "metadata": {},
     "output_type": "execute_result"
    }
   ],
   "source": [
    "WINDOW_SIZE = 400\n",
    "x, y = split_observations(ds, WINDOW_SIZE)\n",
    "x.shape, y.shape"
   ],
   "metadata": {
    "collapsed": false,
    "ExecuteTime": {
     "end_time": "2024-04-03T07:07:54.950434Z",
     "start_time": "2024-04-03T07:07:54.923989Z"
    }
   },
   "id": "e1cd37b098d172db",
   "execution_count": 179
  },
  {
   "cell_type": "markdown",
   "source": [],
   "metadata": {
    "collapsed": false
   },
   "id": "15f21394dab116dc"
  },
  {
   "cell_type": "code",
   "outputs": [
    {
     "name": "stdout",
     "output_type": "stream",
     "text": [
      "[1 1 1 1 1 1 1 1 1 1 1 1 1 1 1 1 1 1 1 1 1 1 1 1 1 1 1 1 1 1 1 1 1 1 1 1 1\n",
      " 1 1 1 1 1 1 1 1 1 1 1 1 0 1 1 1 0 0 0 0 0 0 0 0 0 0 0 0 0 0 0 0 0 0 0 0 0\n",
      " 0 0 0 0 0 0 0 0 0 0 0 0 0 0 0 0 0 0 0 0 0 0 0 0 0 0 0 0 0 0 0 0 0 0 0 0 0\n",
      " 0 0 0 0 0 0 0 0 0 0 0 0 0 0 0 0 0 0 0 0 0 0 0 0 0 0 0 0 0 0 0 0 0 0 0 0 0\n",
      " 0 0 0 0 0 0 0 0 0 0 0 0 0 0 0 0 0 0 0 0 0 0 0 0 0 0 0 0 0 0 0 0 0 0 0 0 0\n",
      " 0 0 0 0 0 0 0 0 0 0 0 0 0 0 0]\n"
     ]
    }
   ],
   "source": [
    "X_train, y_train = x[:200], y[:200]\n",
    "X_val, y_val = x[200:220], y[200:220]\n",
    "X_test, y_test = x[220:], y[220:]\n",
    "X_train = X_train.astype('float32')\n",
    "X_val = X_val.astype('float32')\n",
    "X_test = X_test.astype('float32')\n",
    "X_train.shape, y_train.shape, X_val.shape, y_val.shape, X_test.shape, y_test.shape\n",
    "print(y_train)\n"
   ],
   "metadata": {
    "collapsed": false,
    "ExecuteTime": {
     "end_time": "2024-04-03T07:07:56.128194Z",
     "start_time": "2024-04-03T07:07:56.117147Z"
    }
   },
   "id": "9ff5181b63419256",
   "execution_count": 180
  },
  {
   "cell_type": "code",
   "outputs": [
    {
     "data": {
      "text/plain": "((200,), (20,), (22,))"
     },
     "execution_count": 181,
     "metadata": {},
     "output_type": "execute_result"
    }
   ],
   "source": [
    "from sklearn.preprocessing import LabelEncoder\n",
    "\n",
    "# Assuming y_train contains string labels\n",
    "encoder = LabelEncoder()\n",
    "y_train = encoder.fit_transform(y_train)\n",
    "y_val = encoder.transform(y_val)\n",
    "y_test = encoder.transform(y_test)\n",
    "y_train.shape, y_val.shape, y_test.shape"
   ],
   "metadata": {
    "collapsed": false,
    "ExecuteTime": {
     "end_time": "2024-04-03T07:07:56.995634Z",
     "start_time": "2024-04-03T07:07:56.989996Z"
    }
   },
   "id": "de3bd2e1bfbcfb3",
   "execution_count": 181
  },
  {
   "cell_type": "code",
   "outputs": [],
   "source": [
    "# Reshape y_train (and similarly y_val, y_test) for multi-class classification\n",
    "#y_train = y_train.reshape(y_train.shape[0], 1)\n",
    "#y_val = y_val.reshape(y_val.shape[0], 1)\n",
    "#y_test = y_test.reshape(y_test.shape[0], 1)\n",
    "#y_train.shape, y_val.shape, y_test.shape"
   ],
   "metadata": {
    "collapsed": false,
    "ExecuteTime": {
     "end_time": "2024-04-03T07:07:57.850206Z",
     "start_time": "2024-04-03T07:07:57.848113Z"
    }
   },
   "id": "c2b022d754519fc",
   "execution_count": 182
  },
  {
   "cell_type": "code",
   "outputs": [],
   "source": [
    "from tensorflow.keras.models import Sequential\n",
    "from tensorflow.keras.layers import *\n",
    "from tensorflow.keras.callbacks import ModelCheckpoint\n",
    "from tensorflow.keras.losses import MeanSquaredError\n",
    "from tensorflow.keras.metrics import RootMeanSquaredError\n",
    "from tensorflow.keras.optimizers import Adam"
   ],
   "metadata": {
    "collapsed": false,
    "ExecuteTime": {
     "end_time": "2024-04-03T07:07:58.378550Z",
     "start_time": "2024-04-03T07:07:58.376073Z"
    }
   },
   "id": "ca15a5044df90295",
   "execution_count": 183
  },
  {
   "cell_type": "code",
   "outputs": [
    {
     "data": {
      "text/plain": "\u001B[1mModel: \"sequential_15\"\u001B[0m\n",
      "text/html": "<pre style=\"white-space:pre;overflow-x:auto;line-height:normal;font-family:Menlo,'DejaVu Sans Mono',consolas,'Courier New',monospace\"><span style=\"font-weight: bold\">Model: \"sequential_15\"</span>\n</pre>\n"
     },
     "metadata": {},
     "output_type": "display_data"
    },
    {
     "data": {
      "text/plain": "┏━━━━━━━━━━━━━━━━━━━━━━━━━━━━━━━━━┳━━━━━━━━━━━━━━━━━━━━━━━━┳━━━━━━━━━━━━━━━┓\n┃\u001B[1m \u001B[0m\u001B[1mLayer (type)                   \u001B[0m\u001B[1m \u001B[0m┃\u001B[1m \u001B[0m\u001B[1mOutput Shape          \u001B[0m\u001B[1m \u001B[0m┃\u001B[1m \u001B[0m\u001B[1m      Param #\u001B[0m\u001B[1m \u001B[0m┃\n┡━━━━━━━━━━━━━━━━━━━━━━━━━━━━━━━━━╇━━━━━━━━━━━━━━━━━━━━━━━━╇━━━━━━━━━━━━━━━┩\n│ lstm_15 (\u001B[38;5;33mLSTM\u001B[0m)                  │ (\u001B[38;5;45mNone\u001B[0m, \u001B[38;5;34m128\u001B[0m)            │        \u001B[38;5;34m69,120\u001B[0m │\n├─────────────────────────────────┼────────────────────────┼───────────────┤\n│ dense_30 (\u001B[38;5;33mDense\u001B[0m)                │ (\u001B[38;5;45mNone\u001B[0m, \u001B[38;5;34m32\u001B[0m)             │         \u001B[38;5;34m4,128\u001B[0m │\n├─────────────────────────────────┼────────────────────────┼───────────────┤\n│ dense_31 (\u001B[38;5;33mDense\u001B[0m)                │ (\u001B[38;5;45mNone\u001B[0m, \u001B[38;5;34m1\u001B[0m)              │            \u001B[38;5;34m33\u001B[0m │\n└─────────────────────────────────┴────────────────────────┴───────────────┘\n",
      "text/html": "<pre style=\"white-space:pre;overflow-x:auto;line-height:normal;font-family:Menlo,'DejaVu Sans Mono',consolas,'Courier New',monospace\">┏━━━━━━━━━━━━━━━━━━━━━━━━━━━━━━━━━┳━━━━━━━━━━━━━━━━━━━━━━━━┳━━━━━━━━━━━━━━━┓\n┃<span style=\"font-weight: bold\"> Layer (type)                    </span>┃<span style=\"font-weight: bold\"> Output Shape           </span>┃<span style=\"font-weight: bold\">       Param # </span>┃\n┡━━━━━━━━━━━━━━━━━━━━━━━━━━━━━━━━━╇━━━━━━━━━━━━━━━━━━━━━━━━╇━━━━━━━━━━━━━━━┩\n│ lstm_15 (<span style=\"color: #0087ff; text-decoration-color: #0087ff\">LSTM</span>)                  │ (<span style=\"color: #00d7ff; text-decoration-color: #00d7ff\">None</span>, <span style=\"color: #00af00; text-decoration-color: #00af00\">128</span>)            │        <span style=\"color: #00af00; text-decoration-color: #00af00\">69,120</span> │\n├─────────────────────────────────┼────────────────────────┼───────────────┤\n│ dense_30 (<span style=\"color: #0087ff; text-decoration-color: #0087ff\">Dense</span>)                │ (<span style=\"color: #00d7ff; text-decoration-color: #00d7ff\">None</span>, <span style=\"color: #00af00; text-decoration-color: #00af00\">32</span>)             │         <span style=\"color: #00af00; text-decoration-color: #00af00\">4,128</span> │\n├─────────────────────────────────┼────────────────────────┼───────────────┤\n│ dense_31 (<span style=\"color: #0087ff; text-decoration-color: #0087ff\">Dense</span>)                │ (<span style=\"color: #00d7ff; text-decoration-color: #00d7ff\">None</span>, <span style=\"color: #00af00; text-decoration-color: #00af00\">1</span>)              │            <span style=\"color: #00af00; text-decoration-color: #00af00\">33</span> │\n└─────────────────────────────────┴────────────────────────┴───────────────┘\n</pre>\n"
     },
     "metadata": {},
     "output_type": "display_data"
    },
    {
     "data": {
      "text/plain": "\u001B[1m Total params: \u001B[0m\u001B[38;5;34m73,281\u001B[0m (286.25 KB)\n",
      "text/html": "<pre style=\"white-space:pre;overflow-x:auto;line-height:normal;font-family:Menlo,'DejaVu Sans Mono',consolas,'Courier New',monospace\"><span style=\"font-weight: bold\"> Total params: </span><span style=\"color: #00af00; text-decoration-color: #00af00\">73,281</span> (286.25 KB)\n</pre>\n"
     },
     "metadata": {},
     "output_type": "display_data"
    },
    {
     "data": {
      "text/plain": "\u001B[1m Trainable params: \u001B[0m\u001B[38;5;34m73,281\u001B[0m (286.25 KB)\n",
      "text/html": "<pre style=\"white-space:pre;overflow-x:auto;line-height:normal;font-family:Menlo,'DejaVu Sans Mono',consolas,'Courier New',monospace\"><span style=\"font-weight: bold\"> Trainable params: </span><span style=\"color: #00af00; text-decoration-color: #00af00\">73,281</span> (286.25 KB)\n</pre>\n"
     },
     "metadata": {},
     "output_type": "display_data"
    },
    {
     "data": {
      "text/plain": "\u001B[1m Non-trainable params: \u001B[0m\u001B[38;5;34m0\u001B[0m (0.00 B)\n",
      "text/html": "<pre style=\"white-space:pre;overflow-x:auto;line-height:normal;font-family:Menlo,'DejaVu Sans Mono',consolas,'Courier New',monospace\"><span style=\"font-weight: bold\"> Non-trainable params: </span><span style=\"color: #00af00; text-decoration-color: #00af00\">0</span> (0.00 B)\n</pre>\n"
     },
     "metadata": {},
     "output_type": "display_data"
    }
   ],
   "source": [
    "model1 = Sequential()\n",
    "model1.add(InputLayer((400,6)))\n",
    "model1.add(LSTM(128))\n",
    "model1.add(Dense(32, activation='relu'))\n",
    "model1.add(Dense(1, activation='linear'))\n",
    "model1.summary()"
   ],
   "metadata": {
    "collapsed": false,
    "ExecuteTime": {
     "end_time": "2024-04-03T07:07:59.138445Z",
     "start_time": "2024-04-03T07:07:59.110773Z"
    }
   },
   "id": "f6e9f760432f55f9",
   "execution_count": 184
  },
  {
   "cell_type": "code",
   "outputs": [],
   "source": [
    "cp = ModelCheckpoint('model1/model.keras', save_best_only=True)\n",
    "model1.compile(loss=MeanSquaredError(), optimizer=Adam(learning_rate=0.0001), metrics=['Accuracy', 'Precision', 'Recall'])"
   ],
   "metadata": {
    "collapsed": false,
    "ExecuteTime": {
     "end_time": "2024-04-03T07:08:01.521351Z",
     "start_time": "2024-04-03T07:08:01.514269Z"
    }
   },
   "id": "d97c3e72ccd74388",
   "execution_count": 185
  },
  {
   "cell_type": "code",
   "outputs": [
    {
     "name": "stdout",
     "output_type": "stream",
     "text": [
      "Epoch 1/10\n",
      "\u001B[1m7/7\u001B[0m \u001B[32m━━━━━━━━━━━━━━━━━━━━\u001B[0m\u001B[37m\u001B[0m \u001B[1m2s\u001B[0m 139ms/step - Accuracy: 0.7010 - Precision: 0.2926 - Recall: 0.0694 - loss: 0.3535 - val_Accuracy: 0.5500 - val_Precision: 0.0000e+00 - val_Recall: 0.0000e+00 - val_loss: 0.4191\n",
      "Epoch 2/10\n",
      "\u001B[1m7/7\u001B[0m \u001B[32m━━━━━━━━━━━━━━━━━━━━\u001B[0m\u001B[37m\u001B[0m \u001B[1m1s\u001B[0m 119ms/step - Accuracy: 0.7422 - Precision: 0.3620 - Recall: 0.0840 - loss: 0.2347 - val_Accuracy: 0.6500 - val_Precision: 1.0000 - val_Recall: 0.2222 - val_loss: 0.2437\n",
      "Epoch 3/10\n",
      "\u001B[1m7/7\u001B[0m \u001B[32m━━━━━━━━━━━━━━━━━━━━\u001B[0m\u001B[37m\u001B[0m \u001B[1m1s\u001B[0m 120ms/step - Accuracy: 0.7695 - Precision: 0.8043 - Recall: 0.2582 - loss: 0.1838 - val_Accuracy: 0.8500 - val_Precision: 1.0000 - val_Recall: 0.6667 - val_loss: 0.1429\n",
      "Epoch 4/10\n",
      "\u001B[1m7/7\u001B[0m \u001B[32m━━━━━━━━━━━━━━━━━━━━\u001B[0m\u001B[37m\u001B[0m \u001B[1m1s\u001B[0m 118ms/step - Accuracy: 0.8105 - Precision: 0.7637 - Recall: 0.4079 - loss: 0.1243 - val_Accuracy: 0.9000 - val_Precision: 1.0000 - val_Recall: 0.7778 - val_loss: 0.0909\n",
      "Epoch 5/10\n",
      "\u001B[1m7/7\u001B[0m \u001B[32m━━━━━━━━━━━━━━━━━━━━\u001B[0m\u001B[37m\u001B[0m \u001B[1m1s\u001B[0m 119ms/step - Accuracy: 0.8505 - Precision: 0.8691 - Recall: 0.5460 - loss: 0.1051 - val_Accuracy: 0.9500 - val_Precision: 1.0000 - val_Recall: 0.8889 - val_loss: 0.0689\n",
      "Epoch 6/10\n",
      "\u001B[1m7/7\u001B[0m \u001B[32m━━━━━━━━━━━━━━━━━━━━\u001B[0m\u001B[37m\u001B[0m \u001B[1m1s\u001B[0m 120ms/step - Accuracy: 0.9204 - Precision: 0.9225 - Recall: 0.7916 - loss: 0.0748 - val_Accuracy: 0.9500 - val_Precision: 1.0000 - val_Recall: 0.8889 - val_loss: 0.0642\n",
      "Epoch 7/10\n",
      "\u001B[1m7/7\u001B[0m \u001B[32m━━━━━━━━━━━━━━━━━━━━\u001B[0m\u001B[37m\u001B[0m \u001B[1m1s\u001B[0m 118ms/step - Accuracy: 0.9142 - Precision: 0.9391 - Recall: 0.7541 - loss: 0.0711 - val_Accuracy: 0.9500 - val_Precision: 1.0000 - val_Recall: 0.8889 - val_loss: 0.0630\n",
      "Epoch 8/10\n",
      "\u001B[1m7/7\u001B[0m \u001B[32m━━━━━━━━━━━━━━━━━━━━\u001B[0m\u001B[37m\u001B[0m \u001B[1m1s\u001B[0m 118ms/step - Accuracy: 0.9401 - Precision: 0.9759 - Recall: 0.7837 - loss: 0.0565 - val_Accuracy: 0.9500 - val_Precision: 1.0000 - val_Recall: 0.8889 - val_loss: 0.0608\n",
      "Epoch 9/10\n",
      "\u001B[1m7/7\u001B[0m \u001B[32m━━━━━━━━━━━━━━━━━━━━\u001B[0m\u001B[37m\u001B[0m \u001B[1m1s\u001B[0m 118ms/step - Accuracy: 0.9600 - Precision: 0.9772 - Recall: 0.8582 - loss: 0.0426 - val_Accuracy: 0.9500 - val_Precision: 1.0000 - val_Recall: 0.8889 - val_loss: 0.0567\n",
      "Epoch 10/10\n",
      "\u001B[1m7/7\u001B[0m \u001B[32m━━━━━━━━━━━━━━━━━━━━\u001B[0m\u001B[37m\u001B[0m \u001B[1m1s\u001B[0m 118ms/step - Accuracy: 0.9486 - Precision: 0.9913 - Recall: 0.7877 - loss: 0.0403 - val_Accuracy: 0.9500 - val_Precision: 1.0000 - val_Recall: 0.8889 - val_loss: 0.0524\n"
     ]
    },
    {
     "data": {
      "text/plain": "<keras.src.callbacks.history.History at 0x329595970>"
     },
     "execution_count": 186,
     "metadata": {},
     "output_type": "execute_result"
    }
   ],
   "source": [
    "model1.fit(X_train, y_train, validation_data=(X_val, y_val), epochs=10, callbacks=[cp])"
   ],
   "metadata": {
    "collapsed": false,
    "ExecuteTime": {
     "end_time": "2024-04-03T07:08:11.867631Z",
     "start_time": "2024-04-03T07:08:02.523764Z"
    }
   },
   "id": "7f0983188269a089",
   "execution_count": 186
  },
  {
   "cell_type": "code",
   "outputs": [],
   "source": [
    "from tensorflow.keras.models import load_model\n",
    "model1 = load_model('model1/model.keras')"
   ],
   "metadata": {
    "collapsed": false,
    "ExecuteTime": {
     "end_time": "2024-04-03T07:08:31.182561Z",
     "start_time": "2024-04-03T07:08:31.144575Z"
    }
   },
   "id": "173f7c5ef2224f0d",
   "execution_count": 187
  },
  {
   "cell_type": "code",
   "outputs": [
    {
     "name": "stdout",
     "output_type": "stream",
     "text": [
      "20\n",
      "\u001B[1m1/1\u001B[0m \u001B[32m━━━━━━━━━━━━━━━━━━━━\u001B[0m\u001B[37m\u001B[0m \u001B[1m0s\u001B[0m 92ms/step\n",
      "[ 0.02427974  0.05674758 -0.2374848   1.1326259   1.09464     0.81084406\n",
      "  0.34152004  1.0389469   1.2815981   1.1762416   0.1104387  -0.13631749\n",
      " -0.11069233 -0.29009616  0.04224124 -0.28827637 -0.17444977  0.1957009\n",
      "  1.2273016   1.2191931 ]\n",
      "20\n",
      "20\n"
     ]
    },
    {
     "data": {
      "text/plain": "    Val Predictions  Actual\n0          0.024280       0\n1          0.056748       0\n2         -0.237485       0\n3          1.132626       1\n4          1.094640       1\n5          0.810844       1\n6          0.341520       1\n7          1.038947       1\n8          1.281598       1\n9          1.176242       1\n10         0.110439       0\n11        -0.136317       0\n12        -0.110692       0\n13        -0.290096       0\n14         0.042241       0\n15        -0.288276       0\n16        -0.174450       0\n17         0.195701       0\n18         1.227302       1\n19         1.219193       1",
      "text/html": "<div>\n<style scoped>\n    .dataframe tbody tr th:only-of-type {\n        vertical-align: middle;\n    }\n\n    .dataframe tbody tr th {\n        vertical-align: top;\n    }\n\n    .dataframe thead th {\n        text-align: right;\n    }\n</style>\n<table border=\"1\" class=\"dataframe\">\n  <thead>\n    <tr style=\"text-align: right;\">\n      <th></th>\n      <th>Val Predictions</th>\n      <th>Actual</th>\n    </tr>\n  </thead>\n  <tbody>\n    <tr>\n      <th>0</th>\n      <td>0.024280</td>\n      <td>0</td>\n    </tr>\n    <tr>\n      <th>1</th>\n      <td>0.056748</td>\n      <td>0</td>\n    </tr>\n    <tr>\n      <th>2</th>\n      <td>-0.237485</td>\n      <td>0</td>\n    </tr>\n    <tr>\n      <th>3</th>\n      <td>1.132626</td>\n      <td>1</td>\n    </tr>\n    <tr>\n      <th>4</th>\n      <td>1.094640</td>\n      <td>1</td>\n    </tr>\n    <tr>\n      <th>5</th>\n      <td>0.810844</td>\n      <td>1</td>\n    </tr>\n    <tr>\n      <th>6</th>\n      <td>0.341520</td>\n      <td>1</td>\n    </tr>\n    <tr>\n      <th>7</th>\n      <td>1.038947</td>\n      <td>1</td>\n    </tr>\n    <tr>\n      <th>8</th>\n      <td>1.281598</td>\n      <td>1</td>\n    </tr>\n    <tr>\n      <th>9</th>\n      <td>1.176242</td>\n      <td>1</td>\n    </tr>\n    <tr>\n      <th>10</th>\n      <td>0.110439</td>\n      <td>0</td>\n    </tr>\n    <tr>\n      <th>11</th>\n      <td>-0.136317</td>\n      <td>0</td>\n    </tr>\n    <tr>\n      <th>12</th>\n      <td>-0.110692</td>\n      <td>0</td>\n    </tr>\n    <tr>\n      <th>13</th>\n      <td>-0.290096</td>\n      <td>0</td>\n    </tr>\n    <tr>\n      <th>14</th>\n      <td>0.042241</td>\n      <td>0</td>\n    </tr>\n    <tr>\n      <th>15</th>\n      <td>-0.288276</td>\n      <td>0</td>\n    </tr>\n    <tr>\n      <th>16</th>\n      <td>-0.174450</td>\n      <td>0</td>\n    </tr>\n    <tr>\n      <th>17</th>\n      <td>0.195701</td>\n      <td>0</td>\n    </tr>\n    <tr>\n      <th>18</th>\n      <td>1.227302</td>\n      <td>1</td>\n    </tr>\n    <tr>\n      <th>19</th>\n      <td>1.219193</td>\n      <td>1</td>\n    </tr>\n  </tbody>\n</table>\n</div>"
     },
     "execution_count": 188,
     "metadata": {},
     "output_type": "execute_result"
    }
   ],
   "source": [
    "print(len(X_val))\n",
    "val_predictions = model1.predict(X_val).flatten()\n",
    "print(val_predictions)\n",
    "print(len(val_predictions))\n",
    "print(len(y_val))\n",
    "val_results = pd.DataFrame(data={'Val Predictions':val_predictions, 'Actual':y_val})\n",
    "val_results"
   ],
   "metadata": {
    "collapsed": false,
    "ExecuteTime": {
     "end_time": "2024-04-03T07:08:31.830441Z",
     "start_time": "2024-04-03T07:08:31.712947Z"
    }
   },
   "id": "7927516b38797390",
   "execution_count": 188
  },
  {
   "cell_type": "code",
   "outputs": [
    {
     "data": {
      "text/plain": "[<matplotlib.lines.Line2D at 0x324197140>]"
     },
     "execution_count": 189,
     "metadata": {},
     "output_type": "execute_result"
    },
    {
     "data": {
      "text/plain": "<Figure size 640x480 with 1 Axes>",
      "image/png": "[encoded data removed]"
     },
     "metadata": {},
     "output_type": "display_data"
    }
   ],
   "source": [
    "import matplotlib.pyplot as plt\n",
    "plt.plot(val_results['Val Predictions'][:200])\n",
    "plt.plot(val_results['Actual'][:200])"
   ],
   "metadata": {
    "collapsed": false,
    "ExecuteTime": {
     "end_time": "2024-04-03T07:08:32.995811Z",
     "start_time": "2024-04-03T07:08:32.912839Z"
    }
   },
   "id": "c532abcf52dfc2c8",
   "execution_count": 189
  },
  {
   "cell_type": "code",
   "outputs": [
    {
     "name": "stdout",
     "output_type": "stream",
     "text": [
      "\u001B[1m1/1\u001B[0m \u001B[32m━━━━━━━━━━━━━━━━━━━━\u001B[0m\u001B[37m\u001B[0m \u001B[1m0s\u001B[0m 88ms/step\n"
     ]
    },
    {
     "data": {
      "text/plain": "[<matplotlib.lines.Line2D at 0x31a0af0b0>]"
     },
     "execution_count": 190,
     "metadata": {},
     "output_type": "execute_result"
    },
    {
     "data": {
      "text/plain": "<Figure size 640x480 with 1 Axes>",
      "image/png": "[encoded data removed]"
     },
     "metadata": {},
     "output_type": "display_data"
    }
   ],
   "source": [
    "test_predictions = model1.predict(X_test).flatten()\n",
    "test_results = pd.DataFrame(data={'Test Predictions':test_predictions, 'Actual':y_test})\n",
    "plt.plot(test_results['Test Predictions'])\n",
    "plt.plot(test_results['Actual'])"
   ],
   "metadata": {
    "collapsed": false,
    "ExecuteTime": {
     "end_time": "2024-04-03T07:08:34.020542Z",
     "start_time": "2024-04-03T07:08:33.857376Z"
    }
   },
   "id": "b5f2fb6944955a8",
   "execution_count": 190
  },
  {
   "cell_type": "code",
   "outputs": [],
   "source": [],
   "metadata": {
    "collapsed": false
   },
   "id": "fcaae032c2e93cd8"
  }
 ],
 "metadata": {
  "kernelspec": {
   "display_name": "Python 3",
   "language": "python",
   "name": "python3"
  },
  "language_info": {
   "codemirror_mode": {
    "name": "ipython",
    "version": 2
   },
   "file_extension": ".py",
   "mimetype": "text/x-python",
   "name": "python",
   "nbconvert_exporter": "python",
   "pygments_lexer": "ipython2",
   "version": "2.7.6"
  }
 },
 "nbformat": 4,
 "nbformat_minor": 5
}
