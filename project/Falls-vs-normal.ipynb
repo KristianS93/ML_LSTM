{
 "cells": [
  {
   "cell_type": "markdown",
   "source": [
    "Imports"
   ],
   "metadata": {
    "collapsed": false
   },
   "id": "960c828648b8f6ab"
  },
  {
   "cell_type": "code",
   "execution_count": 7,
   "id": "initial_id",
   "metadata": {
    "collapsed": true,
    "ExecuteTime": {
     "end_time": "2024-04-02T08:17:37.554021Z",
     "start_time": "2024-04-02T08:17:37.551417Z"
    }
   },
   "outputs": [],
   "source": [
    "import pandas as pd\n",
    "import numpy as np\n"
   ]
  },
  {
   "cell_type": "markdown",
   "source": [
    "[[1,2,3,4,5,6,7], [1,2,3,4,5,6,7]]"
   ],
   "metadata": {
    "collapsed": false
   },
   "id": "f5868006d224e2c2"
  },
  {
   "cell_type": "code",
   "outputs": [
    {
     "data": {
      "text/plain": "       xAcc  yAcc  zAcc  xGyro  yGyro  zGyro  label\n0      6.99 -0.57 -7.28  -2.75  -3.23   2.62   fall\n1      6.51 -0.75 -6.93  -0.67  -6.35   4.64   fall\n2      6.22 -0.63 -6.73   0.79  -5.49   3.85   fall\n3      6.34 -0.62 -6.80   1.59  -2.26   0.67   fall\n4      6.49 -0.39 -6.60   0.67  -0.24  -1.10   fall\n...     ...   ...   ...    ...    ...    ...    ...\n96795  7.30 -1.16 -4.58  18.19   3.60 -35.77  light\n96796  7.39 -0.37 -5.05  20.08   0.06 -34.55  light\n96797  7.52 -1.46 -5.82  22.58   0.12 -28.02  light\n96798  7.58 -2.14 -6.31  19.47   2.44 -22.52  light\n96799  7.56 -1.90 -5.89  15.56   3.91 -19.23  light\n\n[96800 rows x 7 columns]",
      "text/html": "<div>\n<style scoped>\n    .dataframe tbody tr th:only-of-type {\n        vertical-align: middle;\n    }\n\n    .dataframe tbody tr th {\n        vertical-align: top;\n    }\n\n    .dataframe thead th {\n        text-align: right;\n    }\n</style>\n<table border=\"1\" class=\"dataframe\">\n  <thead>\n    <tr style=\"text-align: right;\">\n      <th></th>\n      <th>xAcc</th>\n      <th>yAcc</th>\n      <th>zAcc</th>\n      <th>xGyro</th>\n      <th>yGyro</th>\n      <th>zGyro</th>\n      <th>label</th>\n    </tr>\n  </thead>\n  <tbody>\n    <tr>\n      <th>0</th>\n      <td>6.99</td>\n      <td>-0.57</td>\n      <td>-7.28</td>\n      <td>-2.75</td>\n      <td>-3.23</td>\n      <td>2.62</td>\n      <td>fall</td>\n    </tr>\n    <tr>\n      <th>1</th>\n      <td>6.51</td>\n      <td>-0.75</td>\n      <td>-6.93</td>\n      <td>-0.67</td>\n      <td>-6.35</td>\n      <td>4.64</td>\n      <td>fall</td>\n    </tr>\n    <tr>\n      <th>2</th>\n      <td>6.22</td>\n      <td>-0.63</td>\n      <td>-6.73</td>\n      <td>0.79</td>\n      <td>-5.49</td>\n      <td>3.85</td>\n      <td>fall</td>\n    </tr>\n    <tr>\n      <th>3</th>\n      <td>6.34</td>\n      <td>-0.62</td>\n      <td>-6.80</td>\n      <td>1.59</td>\n      <td>-2.26</td>\n      <td>0.67</td>\n      <td>fall</td>\n    </tr>\n    <tr>\n      <th>4</th>\n      <td>6.49</td>\n      <td>-0.39</td>\n      <td>-6.60</td>\n      <td>0.67</td>\n      <td>-0.24</td>\n      <td>-1.10</td>\n      <td>fall</td>\n    </tr>\n    <tr>\n      <th>...</th>\n      <td>...</td>\n      <td>...</td>\n      <td>...</td>\n      <td>...</td>\n      <td>...</td>\n      <td>...</td>\n      <td>...</td>\n    </tr>\n    <tr>\n      <th>96795</th>\n      <td>7.30</td>\n      <td>-1.16</td>\n      <td>-4.58</td>\n      <td>18.19</td>\n      <td>3.60</td>\n      <td>-35.77</td>\n      <td>light</td>\n    </tr>\n    <tr>\n      <th>96796</th>\n      <td>7.39</td>\n      <td>-0.37</td>\n      <td>-5.05</td>\n      <td>20.08</td>\n      <td>0.06</td>\n      <td>-34.55</td>\n      <td>light</td>\n    </tr>\n    <tr>\n      <th>96797</th>\n      <td>7.52</td>\n      <td>-1.46</td>\n      <td>-5.82</td>\n      <td>22.58</td>\n      <td>0.12</td>\n      <td>-28.02</td>\n      <td>light</td>\n    </tr>\n    <tr>\n      <th>96798</th>\n      <td>7.58</td>\n      <td>-2.14</td>\n      <td>-6.31</td>\n      <td>19.47</td>\n      <td>2.44</td>\n      <td>-22.52</td>\n      <td>light</td>\n    </tr>\n    <tr>\n      <th>96799</th>\n      <td>7.56</td>\n      <td>-1.90</td>\n      <td>-5.89</td>\n      <td>15.56</td>\n      <td>3.91</td>\n      <td>-19.23</td>\n      <td>light</td>\n    </tr>\n  </tbody>\n</table>\n<p>96800 rows × 7 columns</p>\n</div>"
     },
     "execution_count": 65,
     "metadata": {},
     "output_type": "execute_result"
    }
   ],
   "source": [
    "ds = pd.read_csv('falls_vs_normal.csv')\n",
    "ds"
   ],
   "metadata": {
    "collapsed": false,
    "ExecuteTime": {
     "end_time": "2024-04-02T08:42:25.960270Z",
     "start_time": "2024-04-02T08:42:25.909518Z"
    }
   },
   "id": "4b28aab6c6c53327",
   "execution_count": 65
  },
  {
   "cell_type": "code",
   "outputs": [],
   "source": [
    "\n",
    "def split_observations(ds, window_size):\n",
    "    ds_arr = ds.to_numpy()\n",
    "    observations = []\n",
    "#    y = []\n",
    "    for i in range(0, len(ds_arr), window_size):\n",
    "        observation = ds_arr[i:i + window_size]  # Slice a window of rows\n",
    "        observations.append(observation)  # Append the entire window\n",
    "\n",
    "    return np.array(observations)\n",
    "        "
   ],
   "metadata": {
    "collapsed": false,
    "ExecuteTime": {
     "end_time": "2024-04-02T08:45:23.854616Z",
     "start_time": "2024-04-02T08:45:23.850882Z"
    }
   },
   "id": "765fee79d8f67a0c",
   "execution_count": 66
  },
  {
   "cell_type": "code",
   "outputs": [
    {
     "data": {
      "text/plain": "(242, 400, 7)"
     },
     "execution_count": 67,
     "metadata": {},
     "output_type": "execute_result"
    }
   ],
   "source": [
    "WINDOW_SIZE = 400\n",
    "x = split_observations(ds, WINDOW_SIZE)\n",
    "x.shape"
   ],
   "metadata": {
    "collapsed": false,
    "ExecuteTime": {
     "end_time": "2024-04-02T08:45:29.540716Z",
     "start_time": "2024-04-02T08:45:29.519917Z"
    }
   },
   "id": "e1cd37b098d172db",
   "execution_count": 67
  },
  {
   "cell_type": "markdown",
   "source": [],
   "metadata": {
    "collapsed": false
   },
   "id": "15f21394dab116dc"
  },
  {
   "cell_type": "code",
   "outputs": [
    {
     "name": "stdout",
     "output_type": "stream",
     "text": [
      "[[6.99 -0.57 -7.28 ... -3.23 2.62 'fall']\n",
      " [6.51 -0.75 -6.93 ... -6.35 4.64 'fall']\n",
      " [6.22 -0.63 -6.73 ... -5.49 3.85 'fall']\n",
      " ...\n",
      " [7.44 -1.92 6.23 ... 0.18 -0.98 'fall']\n",
      " [7.41 -2.0 6.22 ... 0.18 -0.98 'fall']\n",
      " [7.46 -1.96 6.22 ... 0.37 -1.1 'fall']]\n"
     ]
    }
   ],
   "source": [
    "print(x[0])"
   ],
   "metadata": {
    "collapsed": false,
    "ExecuteTime": {
     "end_time": "2024-04-02T08:46:08.371666Z",
     "start_time": "2024-04-02T08:46:08.368059Z"
    }
   },
   "id": "9ff5181b63419256",
   "execution_count": 71
  },
  {
   "cell_type": "code",
   "outputs": [],
   "source": [],
   "metadata": {
    "collapsed": false
   },
   "id": "ca15a5044df90295"
  }
 ],
 "metadata": {
  "kernelspec": {
   "display_name": "Python 3",
   "language": "python",
   "name": "python3"
  },
  "language_info": {
   "codemirror_mode": {
    "name": "ipython",
    "version": 2
   },
   "file_extension": ".py",
   "mimetype": "text/x-python",
   "name": "python",
   "nbconvert_exporter": "python",
   "pygments_lexer": "ipython2",
   "version": "2.7.6"
  }
 },
 "nbformat": 4,
 "nbformat_minor": 5
}
